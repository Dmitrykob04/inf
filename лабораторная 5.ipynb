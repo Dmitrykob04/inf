{
  "nbformat": 4,
  "nbformat_minor": 0,
  "metadata": {
    "colab": {
      "provenance": [],
      "authorship_tag": "ABX9TyM3KneZfXilR/4iY7OcHnLM"
    },
    "kernelspec": {
      "name": "python3",
      "display_name": "Python 3"
    },
    "language_info": {
      "name": "python"
    }
  },
  "cells": [
    {
      "cell_type": "code",
      "execution_count": 1,
      "metadata": {
        "colab": {
          "base_uri": "https://localhost:8080/"
        },
        "id": "mRbWeKvJnZ_K",
        "outputId": "fb778251-acfb-4cd0-c682-874ff165baa7"
      },
      "outputs": [
        {
          "output_type": "stream",
          "name": "stdout",
          "text": [
            "En\n",
            "26\n",
            "True\n",
            "Hi World\n"
          ]
        }
      ],
      "source": [
        "from string import ascii_uppercase\n",
        "\n",
        "\n",
        "class Alphabet():\n",
        "    def __init__(self, lang, letters):\n",
        "        self.lang=lang\n",
        "        self.letters=letters\n",
        "        \n",
        "\n",
        "    \n",
        "    def print(self):\n",
        "        print(self.letters)\n",
        "    def letters_num(self):\n",
        "        return len(self.letters)\n",
        "\n",
        "class EngAlphabet(Alphabet):\n",
        "\n",
        "    def __init__(self ):\n",
        "        super().__init__('En', list(ascii_uppercase))\n",
        "    __letters_num = 26\n",
        "    def is_en_letter(self, let):\n",
        "        if let.upper() in self.letters:\n",
        "            return True\n",
        "        else:\n",
        "            return False\n",
        "    def get_letter_num(self):\n",
        "        return EngAlphabet.__letters_num\n",
        "    \n",
        "    @staticmethod\n",
        "    def get_text():\n",
        "        return 'Hi World'\n",
        "\n",
        "lingo = EngAlphabet()\n",
        "print(lingo.lang)\n",
        "print(lingo.get_letter_num())\n",
        "print(lingo.is_en_letter('f'))\n",
        "print(EngAlphabet.get_text())"
      ]
    }
  ]
}