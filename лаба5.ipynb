{
  "nbformat": 4,
  "nbformat_minor": 0,
  "metadata": {
    "colab": {
      "provenance": [],
      "authorship_tag": "ABX9TyMFMRV1kLe0YwX/CE6d7ycb"
    },
    "kernelspec": {
      "name": "python3",
      "display_name": "Python 3"
    },
    "language_info": {
      "name": "python"
    }
  },
  "cells": [
    {
      "cell_type": "code",
      "execution_count": 1,
      "metadata": {
        "colab": {
          "base_uri": "https://localhost:8080/"
        },
        "id": "EtIPr2aFpMdp",
        "outputId": "40ef5e9d-2a51-4663-b98e-bc3931eaadfb"
      },
      "outputs": [
        {
          "output_type": "stream",
          "name": "stdout",
          "text": [
            "Количество топлива: 450; Общая масса: 950; Состояние двигателя: True\n",
            "Количество топлива: 400; Общая масса: 900; Состояние двигателя: True\n",
            "Количество топлива: 350; Общая масса: 850; Состояние двигателя: True\n",
            "Количество топлива: 300; Общая масса: 800; Состояние двигателя: True\n",
            "Количество топлива: 250; Общая масса: 750; Состояние двигателя: True\n",
            "Количество топлива: 200; Общая масса: 700; Состояние двигателя: True\n",
            "Количество топлива: 150; Общая масса: 650; Состояние двигателя: True\n",
            "Количество топлива: 100; Общая масса: 600; Состояние двигателя: True\n",
            "Количество топлива: 50; Общая масса: 550; Состояние двигателя: True\n",
            "Количество топлива: 0; Общая масса: 500; Состояние двигателя: False\n"
          ]
        }
      ],
      "source": [
        "class Rocket():\n",
        "    def __init__(self, total_weight, amount_of_fuel, engine_status):      \n",
        "        self.total_weight = total_weight\n",
        "        self.amount_of_fuel = amount_of_fuel\n",
        "        self.engine_status = engine_status\n",
        "    def spend_fuel(self, count):              \n",
        "        self.amount_of_fuel -= count           \n",
        "        self.total_weight -= count             \n",
        "        if self.amount_of_fuel <= 0:\n",
        "            self.amount_of_fuel = 0\n",
        "            self.engine_status = False\n",
        "            return False\n",
        "        elif self.amount_of_fuel > 0:\n",
        "            self.engine_status = True\n",
        "            return True\n",
        "    def get_fuel_level(self):                                       \n",
        "        return f'Количество топлива: {self.amount_of_fuel}'\n",
        "    def get_total_weight(self):                                     \n",
        "        return f'Общая масса: {self.total_weight}'\n",
        "    def get_is_engine_running(self):                                \n",
        "        return f'Состояние двигателя: {self.engine_status}'\n",
        "\n",
        "def main():\n",
        "    Roketa = Rocket(1000, 500, True)\n",
        "    while Roketa.amount_of_fuel > 0:\n",
        "        Roketa.spend_fuel(50)\n",
        "        print(Roketa.get_fuel_level(), end='; ')\n",
        "        print(Roketa.get_total_weight(), end='; ')\n",
        "        print(Roketa.get_is_engine_running())\n",
        "main()"
      ]
    }
  ]
}