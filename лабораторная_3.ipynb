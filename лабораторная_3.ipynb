{
  "nbformat": 4,
  "nbformat_minor": 0,
  "metadata": {
    "colab": {
      "provenance": [],
      "name": "лабораторная 3.ipynb",
      "authorship_tag": "ABX9TyOlGeVWS6OLwl8Zu36vOMY8",
      "include_colab_link": true
    },
    "kernelspec": {
      "name": "python3",
      "display_name": "Python 3"
    },
    "language_info": {
      "name": "python"
    }
  },
  "cells": [
    {
      "cell_type": "markdown",
      "metadata": {
        "id": "view-in-github",
        "colab_type": "text"
      },
      "source": [
        "<a href=\"https://colab.research.google.com/github/Dmitrykob04/inf/blob/main/%D0%BB%D0%B0%D0%B1%D0%BE%D1%80%D0%B0%D1%82%D0%BE%D1%80%D0%BD%D0%B0%D1%8F_3.ipynb\" target=\"_parent\"><img src=\"https://colab.research.google.com/assets/colab-badge.svg\" alt=\"Open In Colab\"/></a>"
      ]
    },
    {
      "cell_type": "code",
      "execution_count": null,
      "metadata": {
        "id": "ouXSJlPyYs8i"
      },
      "outputs": [],
      "source": [
        "numbers = [54, 32, 23, 75, 5, 23, 76, 30, 95, 10]\n",
        " \n",
        "a = 0\n",
        " \n",
        "for i in numbers:\n",
        "    a += i\n",
        " \n",
        "print(a)\n",
        "\n",
        "\n",
        "\n",
        "\n",
        "\n",
        "\n",
        "a = 0\n",
        "numbers = [0, 8, 2, 8, 0, 3, 0, 2, 69, 0, 46, 90, 0]\n",
        "for i in numbers:\n",
        "    if i == 0:\n",
        "        a += 1\n",
        "print(a)\n",
        "\n",
        "\n",
        "\n",
        "\n",
        "\n",
        "\n",
        "\n",
        "n = int(input())\n",
        "for i in range(1, n + 1):\n",
        "    for j in range(1, i + 1):\n",
        "        print(j, sep='', end='')\n",
        "    print()\n",
        "\n",
        "\n",
        "\n",
        "\n",
        "\n",
        "\n",
        "\n",
        "n = int(input()) + 1\n",
        "for i in range(1, n + 1):\n",
        "    print(' ' * (n - i), end='')\n",
        "    print(*range(1, i), *range(1, i - 1)[::-1], sep='')"
      ]
    }
  ]
}