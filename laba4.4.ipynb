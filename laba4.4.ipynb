{
  "nbformat": 4,
  "nbformat_minor": 0,
  "metadata": {
    "colab": {
      "provenance": [],
      "authorship_tag": "ABX9TyMh/qtDdKGfHm7cJq9FPekS"
    },
    "kernelspec": {
      "name": "python3",
      "display_name": "Python 3"
    },
    "language_info": {
      "name": "python"
    }
  },
  "cells": [
    {
      "cell_type": "code",
      "execution_count": 5,
      "metadata": {
        "colab": {
          "base_uri": "https://localhost:8080/"
        },
        "id": "i2_hcnnv0T7W",
        "outputId": "ca5ae002-daf8-4b8d-fd18-f3fa84d002f2"
      },
      "outputs": [
        {
          "output_type": "stream",
          "name": "stdout",
          "text": [
            "Введите название словаря и ключь в кавычках\n",
            "15\n"
          ]
        }
      ],
      "source": [
        "gloss = {\n",
        "\t'sergey': 18,\n",
        "\t'lera': 8,\n",
        "\t'vika': 15,\n",
        "\t'alisa': 4,\n",
        "\t'denis': 18,\n",
        "\t'dasha': 17\t\n",
        "\t}\n",
        "\t\n",
        "def func_3(g,n):\n",
        "\tprint('Введите название словаря и ключь в кавычках')\n",
        "\treturn(print(g[n]))\n",
        "\t\n",
        "func_3(gloss,'vika')"
      ]
    }
  ]
}