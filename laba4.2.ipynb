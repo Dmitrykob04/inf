{
  "nbformat": 4,
  "nbformat_minor": 0,
  "metadata": {
    "colab": {
      "provenance": [],
      "authorship_tag": "ABX9TyO7pzaxOX/KoHmsFjFxEckL"
    },
    "kernelspec": {
      "name": "python3",
      "display_name": "Python 3"
    },
    "language_info": {
      "name": "python"
    }
  },
  "cells": [
    {
      "cell_type": "code",
      "execution_count": 6,
      "metadata": {
        "colab": {
          "base_uri": "https://localhost:8080/"
        },
        "id": "i2_hcnnv0T7W",
        "outputId": "865a9d05-2d21-49b0-f4dd-060a938874b4"
      },
      "outputs": [
        {
          "output_type": "stream",
          "name": "stdout",
          "text": [
            "Введите число элементов\n",
            "4\n",
            "[1, 9, 6, 7]\n",
            "[9]\n"
          ]
        }
      ],
      "source": [
        "k = int(input('Введите число элементов\\n'))\n",
        "\n",
        "from random import randint\n",
        "A = [0]*k\n",
        "for i in range(k):\n",
        "\tA[i] = randint(1,9)\n",
        "print(A)\n",
        "\n",
        "def func_2(L):\n",
        "\tB = []\n",
        "\tfor j in range(1, k - 1):\n",
        "\t\tif L[j] > L[j-1]:\n",
        "\t\t\tB.append(L[j])\n",
        "\treturn(print(B))\n",
        "\t\n",
        "func_2(A)"
      ]
    }
  ]
}