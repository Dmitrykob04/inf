{
  "nbformat": 4,
  "nbformat_minor": 0,
  "metadata": {
    "colab": {
      "provenance": [],
      "authorship_tag": "ABX9TyO2Xp0Pzw5/RflzjzQ2vZ7n"
    },
    "kernelspec": {
      "name": "python3",
      "display_name": "Python 3"
    },
    "language_info": {
      "name": "python"
    }
  },
  "cells": [
    {
      "cell_type": "code",
      "execution_count": 1,
      "metadata": {
        "colab": {
          "base_uri": "https://localhost:8080/"
        },
        "id": "i2_hcnnv0T7W",
        "outputId": "6961c7ed-7173-4d5b-8d01-66015263ade2"
      },
      "outputs": [
        {
          "output_type": "stream",
          "name": "stdout",
          "text": [
            "Введите количество элементов\n",
            "2\n",
            "[1, 2]\n",
            "[2]\n"
          ]
        }
      ],
      "source": [
        "list = []\n",
        "k = int(input('Введите количество элементов\\n'))\n",
        "for n in range(1,k + 1):\n",
        "\tlist.append(n)\n",
        "print(list)\n",
        "\n",
        "def func_1(l):\n",
        "\tlist_new = []\n",
        "\tfor num in l:\n",
        "\t\tif l.index(num) % 2 != 0:\n",
        "\t\t\tlist_new.append(num)\n",
        "\treturn(print(list_new))\t\t\n",
        "\t\t\t\n",
        "\t\t\n",
        "func_1(list)"
      ]
    }
  ]
}