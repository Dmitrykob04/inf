any_list = [3,5,2,4,46,8,89,35,24,4,6,2,1,3,5,6,35,]
result = []
def odd_index(list):
    for i in range(len(list)):
        if i % 2 == 0:
            result.append(list[i])
    print(result)
odd_index(any_list)
