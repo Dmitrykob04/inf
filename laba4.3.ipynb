{
  "nbformat": 4,
  "nbformat_minor": 0,
  "metadata": {
    "colab": {
      "provenance": [],
      "authorship_tag": "ABX9TyPIUR9hY25AISsGZdgNhAL7"
    },
    "kernelspec": {
      "name": "python3",
      "display_name": "Python 3"
    },
    "language_info": {
      "name": "python"
    }
  },
  "cells": [
    {
      "cell_type": "code",
      "execution_count": 3,
      "metadata": {
        "colab": {
          "base_uri": "https://localhost:8080/"
        },
        "id": "i2_hcnnv0T7W",
        "outputId": "84d721aa-f68f-4fca-c3b7-351a4d6e8a0e"
      },
      "outputs": [
        {
          "output_type": "stream",
          "name": "stdout",
          "text": [
            "Введите количество случайных элементов списка\n",
            "3\n",
            "[3, 20, 8]\n",
            "[20, 3, 8]\n"
          ]
        }
      ],
      "source": [
        "k = int(input('Введите количество случайных элементов списка\\n'))\n",
        "\n",
        "from random import randint\n",
        "A = [0]*k\n",
        "for i in range(k):\n",
        "\tA[i] = randint(1, 20)\n",
        "print(A)\n",
        "\n",
        "def func_3(L):\n",
        "\tB = []\n",
        "\tmax = 0\n",
        "\tmin = 100\n",
        "\tfor j in range(k):\n",
        "\t\tif L[j] > max:\n",
        "\t\t\tmax = L[j]\n",
        "\t\t\tj_max = j\n",
        "\n",
        "\tfor j in range(k):\n",
        "\t\tif L[j] < min:\n",
        "\t\t\tmin = L[j]\n",
        "\t\t\tj_min = j\n",
        "\tA[j_max] = min\n",
        "\tA[j_min] = max\n",
        "\t\n",
        "\treturn(print(L))\n",
        "\t\n",
        "func_3(A)"
      ]
    }
  ]
}